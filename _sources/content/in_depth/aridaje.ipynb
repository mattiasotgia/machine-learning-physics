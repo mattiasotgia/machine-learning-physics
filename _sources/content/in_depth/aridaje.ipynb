{
 "cells": [
  {
   "cell_type": "code",
   "execution_count": 3,
   "id": "7363eb42-4bf1-446e-87d9-40b60d030153",
   "metadata": {},
   "outputs": [],
   "source": [
    "import numpy as np\n",
    "import matplotlib as mpl\n",
    "import matplotlib.pyplot as plt\n",
    "import proplot as plot\n",
    "\n",
    "import mplhep as hep\n",
    "import jax\n",
    "import jaxlib\n",
    "import optax\n",
    "\n",
    "\n",
    "import ROOT"
   ]
  },
  {
   "cell_type": "markdown",
   "id": "3d38d855-9af6-43c5-8b13-3b42fec18611",
   "metadata": {},
   "source": [
    "# ARIDAJE\n",
    "\n",
    "Algoritmo di _tagging_ per hit su rivelatore esterno muonico in ATLAS. "
   ]
  },
  {
   "cell_type": "code",
   "execution_count": null,
   "id": "105a4a6f-ea23-44cc-89ee-356bf3c9ef34",
   "metadata": {},
   "outputs": [],
   "source": []
  }
 ],
 "metadata": {
  "kernelspec": {
   "display_name": "Python 3 (ipykernel)",
   "language": "python",
   "name": "python3"
  },
  "language_info": {
   "codemirror_mode": {
    "name": "ipython",
    "version": 3
   },
   "file_extension": ".py",
   "mimetype": "text/x-python",
   "name": "python",
   "nbconvert_exporter": "python",
   "pygments_lexer": "ipython3",
   "version": "3.9.12"
  }
 },
 "nbformat": 4,
 "nbformat_minor": 5
}
